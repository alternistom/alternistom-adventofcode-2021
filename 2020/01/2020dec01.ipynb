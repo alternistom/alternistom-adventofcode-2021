{
 "cells": [
  {
   "cell_type": "markdown",
   "id": "26a5ffc6",
   "metadata": {},
   "source": [
    "# PART ONE"
   ]
  },
  {
   "cell_type": "code",
   "execution_count": 29,
   "id": "a9eaf2ce",
   "metadata": {},
   "outputs": [],
   "source": [
    "import itertools\n",
    "import numpy"
   ]
  },
  {
   "cell_type": "code",
   "execution_count": 24,
   "id": "92c215af",
   "metadata": {},
   "outputs": [],
   "source": [
    "lines = open('input.txt').read().split('\\n')\n",
    "\n",
    "for i in range(0, len(lines)):\n",
    "    lines[i] = int(lines[i])"
   ]
  },
  {
   "cell_type": "code",
   "execution_count": 30,
   "id": "03272cf2",
   "metadata": {},
   "outputs": [
    {
     "name": "stdout",
     "output_type": "stream",
     "text": [
      "974304\n"
     ]
    }
   ],
   "source": [
    "indexes = []\n",
    "\n",
    "for numbers in itertools.combinations(lines,2):\n",
    "    if sum(numbers) == 2020:\n",
    "        indexes = [lines.index(number) for number in numbers]\n",
    "\n",
    "nums = []   \n",
    "        \n",
    "for idx in indexes:\n",
    "    nums.append(lines[idx])\n",
    "    \n",
    "print(numpy.prod(nums))"
   ]
  },
  {
   "cell_type": "markdown",
   "id": "da9e6aeb",
   "metadata": {},
   "source": [
    "# PART TWO"
   ]
  },
  {
   "cell_type": "code",
   "execution_count": 31,
   "id": "f642c184",
   "metadata": {},
   "outputs": [
    {
     "name": "stdout",
     "output_type": "stream",
     "text": [
      "236430480\n"
     ]
    }
   ],
   "source": [
    "for numbers in itertools.combinations(lines,3):\n",
    "    if sum(numbers) == 2020:\n",
    "        indexes = [lines.index(number) for number in numbers]\n",
    "\n",
    "nums = []   \n",
    "        \n",
    "for idx in indexes:\n",
    "    nums.append(lines[idx])\n",
    "    \n",
    "print(numpy.prod(nums))"
   ]
  }
 ],
 "metadata": {
  "kernelspec": {
   "display_name": "Python 3",
   "language": "python",
   "name": "python3"
  },
  "language_info": {
   "codemirror_mode": {
    "name": "ipython",
    "version": 3
   },
   "file_extension": ".py",
   "mimetype": "text/x-python",
   "name": "python",
   "nbconvert_exporter": "python",
   "pygments_lexer": "ipython3",
   "version": "3.8.6"
  }
 },
 "nbformat": 4,
 "nbformat_minor": 5
}
