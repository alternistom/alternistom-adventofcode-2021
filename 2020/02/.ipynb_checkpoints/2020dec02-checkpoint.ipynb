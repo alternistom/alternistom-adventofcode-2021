{
 "cells": [
  {
   "cell_type": "markdown",
   "id": "73705f92",
   "metadata": {},
   "source": [
    "# PART ONE"
   ]
  },
  {
   "cell_type": "code",
   "execution_count": 1,
   "id": "fb17f996",
   "metadata": {},
   "outputs": [],
   "source": [
    "lines = open('input.txt').read().split('\\n')"
   ]
  },
  {
   "cell_type": "code",
   "execution_count": 20,
   "id": "81835f9a",
   "metadata": {},
   "outputs": [
    {
     "name": "stdout",
     "output_type": "stream",
     "text": [
      "546\n"
     ]
    }
   ],
   "source": [
    "validcounter = 0\n",
    "\n",
    "for line in lines:\n",
    "    \n",
    "    splitted = line.split(\":\")\n",
    "    \n",
    "    #rule\n",
    "    rules = splitted[0].split(\" \")\n",
    "    \n",
    "    letter = rules[1]\n",
    "\n",
    "    howmany = rules[0].split(\"-\")\n",
    "    \n",
    "    for i in range(0, len(howmany)):\n",
    "        howmany[i] = int(howmany[i])\n",
    "    \n",
    "    min = howmany[0]\n",
    "    max = howmany[1]\n",
    "    \n",
    "    #pass\n",
    "    passw = splitted[1].strip()\n",
    "\n",
    "    \n",
    "    #checkpass\n",
    "    \n",
    "    counted = passw.count(letter)\n",
    "    \n",
    "    if min <= counted <= max:\n",
    "        validcounter += 1\n",
    "    \n",
    "print(validcounter)"
   ]
  },
  {
   "cell_type": "markdown",
   "id": "091d1891",
   "metadata": {},
   "source": [
    "# PART TWO"
   ]
  },
  {
   "cell_type": "code",
   "execution_count": 42,
   "id": "bd06ff3b",
   "metadata": {},
   "outputs": [
    {
     "name": "stdout",
     "output_type": "stream",
     "text": [
      "275\n"
     ]
    }
   ],
   "source": [
    "validcounter = 0\n",
    "\n",
    "for line in lines:\n",
    "    \n",
    "    splitted = line.split(\":\")\n",
    "    \n",
    "    #rule\n",
    "    rules = splitted[0].split(\" \")\n",
    "    \n",
    "    letter = rules[1]\n",
    "\n",
    "    howmany = rules[0].split(\"-\")\n",
    "    \n",
    "    for i in range(0, len(howmany)):\n",
    "        howmany[i] = int(howmany[i])\n",
    "    \n",
    "    min = howmany[0]\n",
    "    max = howmany[1]\n",
    "    \n",
    "    #pass\n",
    "    passw = splitted[1].strip()\n",
    "\n",
    "    \n",
    "    #checkpass\n",
    "    \n",
    "    letterz = []\n",
    "    \n",
    "    if passw[min-1] == letter or passw[max-1] == letter:\n",
    "            letterz.append(passw[min-1])\n",
    "            letterz.append(passw[max-1])\n",
    "            \n",
    "            if letterz[0] != letterz[1]:\n",
    "                validcounter += 1\n",
    "    \n",
    "print(validcounter)"
   ]
  },
  {
   "cell_type": "code",
   "execution_count": null,
   "id": "e54d9560",
   "metadata": {},
   "outputs": [],
   "source": []
  },
  {
   "cell_type": "code",
   "execution_count": null,
   "id": "2caffdbf",
   "metadata": {},
   "outputs": [],
   "source": []
  },
  {
   "cell_type": "code",
   "execution_count": null,
   "id": "14802ea0",
   "metadata": {},
   "outputs": [],
   "source": []
  }
 ],
 "metadata": {
  "kernelspec": {
   "display_name": "Python 3",
   "language": "python",
   "name": "python3"
  },
  "language_info": {
   "codemirror_mode": {
    "name": "ipython",
    "version": 3
   },
   "file_extension": ".py",
   "mimetype": "text/x-python",
   "name": "python",
   "nbconvert_exporter": "python",
   "pygments_lexer": "ipython3",
   "version": "3.8.6"
  }
 },
 "nbformat": 4,
 "nbformat_minor": 5
}
