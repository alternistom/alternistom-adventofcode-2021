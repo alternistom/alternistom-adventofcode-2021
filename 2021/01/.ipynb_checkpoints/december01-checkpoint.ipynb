{
 "cells": [
  {
   "cell_type": "markdown",
   "id": "4a6d9c30",
   "metadata": {},
   "source": [
    "# PART ONE"
   ]
  },
  {
   "cell_type": "code",
   "execution_count": 28,
   "id": "1cfa0177",
   "metadata": {},
   "outputs": [
    {
     "name": "stdout",
     "output_type": "stream",
     "text": [
      "1292\n"
     ]
    }
   ],
   "source": [
    "lines = open('input.txt').read().split('\\n')\n",
    "\n",
    "for i in range(0, len(lines)):\n",
    "    lines[i] = int(lines[i])\n",
    "\n",
    "counter = 0\n",
    "\n",
    "for line in range(1,len(lines)):\n",
    "\n",
    "    if lines[line] > lines[line-1]:\n",
    "        counter += 1\n",
    "        \n",
    "print(counter)"
   ]
  },
  {
   "cell_type": "markdown",
   "id": "87cbad3b",
   "metadata": {},
   "source": [
    "# PART TWO"
   ]
  },
  {
   "cell_type": "code",
   "execution_count": 33,
   "id": "acfcf0d1",
   "metadata": {},
   "outputs": [
    {
     "name": "stdout",
     "output_type": "stream",
     "text": [
      "1262\n"
     ]
    }
   ],
   "source": [
    "window_size = 3\n",
    "\n",
    "summed = []\n",
    "\n",
    "for i in range(len(lines) - window_size + 1):\n",
    "    \n",
    "    three = lines[i: i + window_size]\n",
    "    \n",
    "    summed.append(sum(three))\n",
    "    \n",
    "counter = 0\n",
    "\n",
    "for line in range(1,len(summed)):\n",
    "\n",
    "    if summed[line] > summed[line-1]:\n",
    "        counter += 1\n",
    "        \n",
    "print(counter)   "
   ]
  },
  {
   "cell_type": "code",
   "execution_count": null,
   "id": "2e0f8345",
   "metadata": {},
   "outputs": [],
   "source": []
  }
 ],
 "metadata": {
  "kernelspec": {
   "display_name": "Python 3",
   "language": "python",
   "name": "python3"
  },
  "language_info": {
   "codemirror_mode": {
    "name": "ipython",
    "version": 3
   },
   "file_extension": ".py",
   "mimetype": "text/x-python",
   "name": "python",
   "nbconvert_exporter": "python",
   "pygments_lexer": "ipython3",
   "version": "3.8.6"
  }
 },
 "nbformat": 4,
 "nbformat_minor": 5
}
