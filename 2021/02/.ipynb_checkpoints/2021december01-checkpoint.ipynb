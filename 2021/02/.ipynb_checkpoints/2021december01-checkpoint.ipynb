{
 "cells": [
  {
   "cell_type": "markdown",
   "id": "d3dd6ba8",
   "metadata": {},
   "source": [
    "# PART ONE"
   ]
  },
  {
   "cell_type": "code",
   "execution_count": 1,
   "id": "d8bca18d",
   "metadata": {},
   "outputs": [],
   "source": [
    "lines = open('input.txt').read().split('\\n')"
   ]
  },
  {
   "cell_type": "code",
   "execution_count": 7,
   "id": "854eb1a5",
   "metadata": {},
   "outputs": [
    {
     "name": "stdout",
     "output_type": "stream",
     "text": [
      "1815044\n"
     ]
    }
   ],
   "source": [
    "hori = 0\n",
    "depth = 0\n",
    "\n",
    "for line in lines:\n",
    "    d = line.split(\" \")\n",
    "    \n",
    "    if d[0][0] == 'f':\n",
    "        hori += int(d[1])\n",
    "        \n",
    "    elif d[0][0] == 'd':\n",
    "        depth += int(d[1])\n",
    "        \n",
    "    elif d[0][0] == 'u':\n",
    "        depth -= int(d[1])\n",
    "        \n",
    "print(depth*hori)"
   ]
  },
  {
   "cell_type": "markdown",
   "id": "c70cc4ae",
   "metadata": {},
   "source": [
    "# PART TWO"
   ]
  },
  {
   "cell_type": "code",
   "execution_count": 8,
   "id": "232e3ff6",
   "metadata": {},
   "outputs": [
    {
     "name": "stdout",
     "output_type": "stream",
     "text": [
      "1739283308\n"
     ]
    }
   ],
   "source": [
    "hori = 0\n",
    "depth = 0\n",
    "aim = 0\n",
    "\n",
    "for line in lines:\n",
    "    d = line.split(\" \")\n",
    "    \n",
    "    if d[0][0] == 'f':\n",
    "        hori += int(d[1])\n",
    "        #It increases your depth by your aim multiplied by X.\n",
    "        depth += aim * int(d[1])\n",
    "        \n",
    "    elif d[0][0] == 'd':\n",
    "        aim += int(d[1])\n",
    "        \n",
    "    elif d[0][0] == 'u':\n",
    "        aim -= int(d[1])\n",
    "        \n",
    "print(depth*hori)"
   ]
  },
  {
   "cell_type": "code",
   "execution_count": null,
   "id": "853994cb",
   "metadata": {},
   "outputs": [],
   "source": []
  }
 ],
 "metadata": {
  "kernelspec": {
   "display_name": "Python 3",
   "language": "python",
   "name": "python3"
  },
  "language_info": {
   "codemirror_mode": {
    "name": "ipython",
    "version": 3
   },
   "file_extension": ".py",
   "mimetype": "text/x-python",
   "name": "python",
   "nbconvert_exporter": "python",
   "pygments_lexer": "ipython3",
   "version": "3.8.6"
  }
 },
 "nbformat": 4,
 "nbformat_minor": 5
}
