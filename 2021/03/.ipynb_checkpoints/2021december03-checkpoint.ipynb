{
 "cells": [
  {
   "cell_type": "markdown",
   "id": "6d95e1a4",
   "metadata": {},
   "source": [
    "# PART ONE"
   ]
  },
  {
   "cell_type": "code",
   "execution_count": 189,
   "id": "4e691d90",
   "metadata": {},
   "outputs": [],
   "source": [
    "lines = open('input.txt').read().split('\\n')"
   ]
  },
  {
   "cell_type": "code",
   "execution_count": 166,
   "id": "6cc8207c",
   "metadata": {},
   "outputs": [
    {
     "name": "stdout",
     "output_type": "stream",
     "text": [
      "693486\n"
     ]
    }
   ],
   "source": [
    "sortdict= {\n",
    "'pos00' : sorted(lines, key = lambda x: int(x[0])),\n",
    "'pos01' : sorted(lines, key = lambda x: int(x[1])),\n",
    "'pos02' : sorted(lines, key = lambda x: int(x[2])),\n",
    "'pos03' : sorted(lines, key = lambda x: int(x[3])),\n",
    "'pos04' : sorted(lines, key = lambda x: int(x[4])),\n",
    "'pos05' : sorted(lines, key = lambda x: int(x[5])),\n",
    "'pos06' : sorted(lines, key = lambda x: int(x[6])),\n",
    "'pos07' : sorted(lines, key = lambda x: int(x[7])),\n",
    "'pos08' : sorted(lines, key = lambda x: int(x[8])),\n",
    "'pos09' : sorted(lines, key = lambda x: int(x[9])),\n",
    "'pos10' : sorted(lines, key = lambda x: int(x[10])),\n",
    "'pos11' : sorted(lines, key = lambda x: int(x[11]))\n",
    "}\n",
    "\n",
    "mfreq = ''\n",
    "\n",
    "for i in range(0,12):\n",
    "    mfreq += sortdict['pos'+str(i).zfill(2)][500][i]\n",
    "    \n",
    "invert = mfreq.maketrans('01','10')\n",
    "lfreq = mfreq.translate(invert)\n",
    "\n",
    "print(int(mfreq, 2) * int(lfreq, 2))"
   ]
  },
  {
   "cell_type": "markdown",
   "id": "e66a3f4c",
   "metadata": {},
   "source": [
    "# PART TWO"
   ]
  },
  {
   "cell_type": "code",
   "execution_count": 196,
   "id": "4a44dc6b",
   "metadata": {},
   "outputs": [],
   "source": [
    "oxylist = lines\n",
    "z = 0\n",
    "oxyend = ''\n",
    "\n",
    "while len(list(set(oxylist))) != 1:\n",
    "\n",
    "    zero = {\n",
    "    'c00': 0,\n",
    "    'c01' : 0,\n",
    "    'c02' : 0,\n",
    "    'c03' : 0,\n",
    "    'c04' : 0,\n",
    "    'c05' : 0,\n",
    "    'c06' : 0,\n",
    "    'c07' : 0,\n",
    "    'c08' : 0,\n",
    "    'c09' : 0,\n",
    "    'c10' : 0,\n",
    "    'c11' : 0\n",
    "    }\n",
    "    one = {\n",
    "    'c00': 0,\n",
    "    'c01' : 0,\n",
    "    'c02' : 0,\n",
    "    'c03' : 0,\n",
    "    'c04' : 0,\n",
    "    'c05' : 0,\n",
    "    'c06' : 0,\n",
    "    'c07' : 0,\n",
    "    'c08' : 0,\n",
    "    'c09' : 0,\n",
    "    'c10' : 0,\n",
    "    'c11' : 0\n",
    "    }\n",
    "\n",
    "    for i in range(0,12):\n",
    "\n",
    "        for line in oxylist:\n",
    "            if line[i] == '0':\n",
    "                zero['c'+str(i).zfill(2)] += 1\n",
    "            if line[i] == '1':\n",
    "                one['c'+str(i).zfill(2)] += 1\n",
    "\n",
    "    if zero['c'+str(z).zfill(2)] > one['c'+str(z).zfill(2)]:\n",
    "        filtered = list(filter(lambda line: line[z] == '0', oxylist))\n",
    "        oxylist = list(filter(lambda i: i in filtered, oxylist))\n",
    "        oxyend += '0'\n",
    "        \n",
    "    elif zero['c'+str(z).zfill(2)] < one['c'+str(z).zfill(2)]:\n",
    "        filtered = list(filter(lambda line: line[z] == '1', oxylist))\n",
    "        oxylist = list(filter(lambda i: i in filtered, oxylist))\n",
    "        oxyend += '1'\n",
    "        \n",
    "    elif zero['c'+str(z).zfill(2)] == one['c'+str(z).zfill(2)]:\n",
    "        filtered = list(filter(lambda line: line[z] == '1', oxylist))\n",
    "        oxylist = list(filter(lambda i: i in filtered, oxylist))\n",
    "        oxyend += '1'\n",
    "        \n",
    "    z += 1"
   ]
  },
  {
   "cell_type": "code",
   "execution_count": 197,
   "id": "368e1c84",
   "metadata": {},
   "outputs": [],
   "source": [
    "colist = lines\n",
    "z = 0\n",
    "coend = ''\n",
    "\n",
    "while len(list(set(colist))) != 1:\n",
    "\n",
    "    zero = {\n",
    "    'c00': 0,\n",
    "    'c01' : 0,\n",
    "    'c02' : 0,\n",
    "    'c03' : 0,\n",
    "    'c04' : 0,\n",
    "    'c05' : 0,\n",
    "    'c06' : 0,\n",
    "    'c07' : 0,\n",
    "    'c08' : 0,\n",
    "    'c09' : 0,\n",
    "    'c10' : 0,\n",
    "    'c11' : 0\n",
    "    }\n",
    "    one = {\n",
    "    'c00': 0,\n",
    "    'c01' : 0,\n",
    "    'c02' : 0,\n",
    "    'c03' : 0,\n",
    "    'c04' : 0,\n",
    "    'c05' : 0,\n",
    "    'c06' : 0,\n",
    "    'c07' : 0,\n",
    "    'c08' : 0,\n",
    "    'c09' : 0,\n",
    "    'c10' : 0,\n",
    "    'c11' : 0\n",
    "    }\n",
    "\n",
    "    for i in range(0,12):\n",
    "\n",
    "        for line in colist:\n",
    "            if line[i] == '0':\n",
    "                zero['c'+str(i).zfill(2)] += 1\n",
    "            if line[i] == '1':\n",
    "                one['c'+str(i).zfill(2)] += 1\n",
    "\n",
    "    if zero['c'+str(z).zfill(2)] < one['c'+str(z).zfill(2)]:\n",
    "        filtered = list(filter(lambda line: line[z] == '0', colist))\n",
    "        colist = list(filter(lambda i: i in filtered, colist))\n",
    "        coend += '0'\n",
    "        \n",
    "    elif zero['c'+str(z).zfill(2)] > one['c'+str(z).zfill(2)]:\n",
    "        filtered = list(filter(lambda line: line[z] == '1', colist))\n",
    "        colist = list(filter(lambda i: i in filtered, colist))\n",
    "        coend += '1'\n",
    "        \n",
    "    elif zero['c'+str(z).zfill(2)] == one['c'+str(z).zfill(2)]:\n",
    "        filtered = list(filter(lambda line: line[z] == '0', colist))\n",
    "        colist = list(filter(lambda i: i in filtered, colist))\n",
    "        coend += '0'\n",
    "        \n",
    "    z += 1"
   ]
  },
  {
   "cell_type": "code",
   "execution_count": 198,
   "id": "95cd348f",
   "metadata": {},
   "outputs": [
    {
     "name": "stdout",
     "output_type": "stream",
     "text": [
      "3379326\n"
     ]
    }
   ],
   "source": [
    "print(int(oxylist[0], 2)*int(colist[0], 2))"
   ]
  }
 ],
 "metadata": {
  "kernelspec": {
   "display_name": "Python 3",
   "language": "python",
   "name": "python3"
  },
  "language_info": {
   "codemirror_mode": {
    "name": "ipython",
    "version": 3
   },
   "file_extension": ".py",
   "mimetype": "text/x-python",
   "name": "python",
   "nbconvert_exporter": "python",
   "pygments_lexer": "ipython3",
   "version": "3.8.6"
  }
 },
 "nbformat": 4,
 "nbformat_minor": 5
}
